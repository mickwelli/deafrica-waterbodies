{
 "cells": [
  {
   "cell_type": "markdown",
   "id": "51613694-4593-490e-89e7-6c20d290cc52",
   "metadata": {
    "tags": []
   },
   "source": [
    "# Using the deafrica-waterbodies command line tool"
   ]
  },
  {
   "cell_type": "code",
   "execution_count": 4,
   "id": "513bd3b4-9f04-44da-8fe1-c8d471b034f7",
   "metadata": {},
   "outputs": [
    {
     "name": "stdout",
     "output_type": "stream",
     "text": [
      "Defaulting to user installation because normal site-packages is not writeable\n",
      "Processing /home/jovyan/dev/deafrica-waterbodies\n",
      "  Installing build dependencies ... \u001b[?25ldone\n",
      "\u001b[?25h  Getting requirements to build wheel ... \u001b[?25ldone\n",
      "\u001b[?25h  Installing backend dependencies ... \u001b[?25ldone\n",
      "\u001b[?25h  Preparing metadata (pyproject.toml) ... \u001b[?25ldone\n",
      "\u001b[?25hRequirement already satisfied: boto3 in /usr/local/lib/python3.10/dist-packages (from deafrica-waterbodies==0.0.1) (1.24.59)\n",
      "Requirement already satisfied: boto3-stubs[s3,sqs] in /home/jovyan/.local/lib/python3.10/site-packages (from deafrica-waterbodies==0.0.1) (1.28.67)\n",
      "Requirement already satisfied: botocore in /usr/local/lib/python3.10/dist-packages (from deafrica-waterbodies==0.0.1) (1.27.59)\n",
      "Requirement already satisfied: click in /usr/local/lib/python3.10/dist-packages (from deafrica-waterbodies==0.0.1) (8.1.6)\n",
      "Requirement already satisfied: datacube in /usr/local/lib/python3.10/dist-packages (from deafrica-waterbodies==0.0.1) (1.8.15)\n",
      "Requirement already satisfied: deafrica-tools>=2.1.2 in /home/jovyan/.local/lib/python3.10/site-packages (from deafrica-waterbodies==0.0.1) (2.1.2)\n",
      "Requirement already satisfied: fsspec in /usr/local/lib/python3.10/dist-packages (from deafrica-waterbodies==0.0.1) (2023.3.0)\n",
      "Requirement already satisfied: gdal in /usr/lib/python3/dist-packages (from deafrica-waterbodies==0.0.1) (3.6.3)\n",
      "Requirement already satisfied: geopandas in /usr/local/lib/python3.10/dist-packages (from deafrica-waterbodies==0.0.1) (0.13.2)\n",
      "Requirement already satisfied: numpy in /usr/local/lib/python3.10/dist-packages (from deafrica-waterbodies==0.0.1) (1.24.3)\n",
      "Requirement already satisfied: odc-dscache in /usr/local/lib/python3.10/dist-packages (from deafrica-waterbodies==0.0.1) (0.2.2)\n",
      "Requirement already satisfied: pandas in /usr/local/lib/python3.10/dist-packages (from deafrica-waterbodies==0.0.1) (2.0.3)\n",
      "Requirement already satisfied: python-dateutil in /usr/local/lib/python3.10/dist-packages (from deafrica-waterbodies==0.0.1) (2.8.2)\n",
      "Requirement already satisfied: python-geohash in /usr/local/lib/python3.10/dist-packages (from deafrica-waterbodies==0.0.1) (0.8.5)\n",
      "Requirement already satisfied: shapely in /usr/local/lib/python3.10/dist-packages (from deafrica-waterbodies==0.0.1) (2.0.1)\n",
      "Requirement already satisfied: tqdm in /usr/local/lib/python3.10/dist-packages (from deafrica-waterbodies==0.0.1) (4.65.0)\n",
      "Requirement already satisfied: black in /usr/local/lib/python3.10/dist-packages (from deafrica-waterbodies==0.0.1) (23.7.0)\n",
      "Requirement already satisfied: isort in /usr/local/lib/python3.10/dist-packages (from deafrica-waterbodies==0.0.1) (5.9.3)\n",
      "Requirement already satisfied: flake8 in /home/jovyan/.local/lib/python3.10/site-packages (from deafrica-waterbodies==0.0.1) (6.0.0)\n",
      "Requirement already satisfied: pytest in /usr/local/lib/python3.10/dist-packages (from deafrica-waterbodies==0.0.1) (7.4.0)\n",
      "Requirement already satisfied: aiohttp in /usr/local/lib/python3.10/dist-packages (from deafrica-tools>=2.1.2->deafrica-waterbodies==0.0.1) (3.8.5)\n",
      "Requirement already satisfied: aiobotocore[boto3] in /usr/local/lib/python3.10/dist-packages (from deafrica-tools>=2.1.2->deafrica-waterbodies==0.0.1) (2.4.2)\n",
      "Requirement already satisfied: branca in /usr/local/lib/python3.10/dist-packages (from deafrica-tools>=2.1.2->deafrica-waterbodies==0.0.1) (0.6.0)\n",
      "Requirement already satisfied: dask[complete] in /usr/local/lib/python3.10/dist-packages (from deafrica-tools>=2.1.2->deafrica-waterbodies==0.0.1) (2023.3.1)\n",
      "Requirement already satisfied: dask-ml in /usr/local/lib/python3.10/dist-packages (from deafrica-tools>=2.1.2->deafrica-waterbodies==0.0.1) (2023.3.24)\n",
      "Requirement already satisfied: dask-gateway in /usr/local/lib/python3.10/dist-packages (from deafrica-tools>=2.1.2->deafrica-waterbodies==0.0.1) (2023.1.1)\n",
      "Requirement already satisfied: fiona in /usr/local/lib/python3.10/dist-packages (from deafrica-tools>=2.1.2->deafrica-waterbodies==0.0.1) (1.9.4.post1)\n",
      "Requirement already satisfied: folium in /usr/local/lib/python3.10/dist-packages (from deafrica-tools>=2.1.2->deafrica-waterbodies==0.0.1) (0.12.1)\n",
      "Requirement already satisfied: geojson in /usr/local/lib/python3.10/dist-packages (from deafrica-tools>=2.1.2->deafrica-waterbodies==0.0.1) (3.0.1)\n",
      "Requirement already satisfied: geopy in /usr/local/lib/python3.10/dist-packages (from deafrica-tools>=2.1.2->deafrica-waterbodies==0.0.1) (2.3.0)\n",
      "Requirement already satisfied: hdstats in /usr/local/lib/python3.10/dist-packages (from deafrica-tools>=2.1.2->deafrica-waterbodies==0.0.1) (0.2.1)\n",
      "Requirement already satisfied: ipyleaflet in /usr/local/lib/python3.10/dist-packages (from deafrica-tools>=2.1.2->deafrica-waterbodies==0.0.1) (0.17.2)\n",
      "Requirement already satisfied: ipython in /usr/local/lib/python3.10/dist-packages (from deafrica-tools>=2.1.2->deafrica-waterbodies==0.0.1) (8.13.1)\n",
      "Requirement already satisfied: ipywidgets in /usr/local/lib/python3.10/dist-packages (from deafrica-tools>=2.1.2->deafrica-waterbodies==0.0.1) (8.0.6)\n",
      "Requirement already satisfied: joblib in /usr/local/lib/python3.10/dist-packages (from deafrica-tools>=2.1.2->deafrica-waterbodies==0.0.1) (1.3.1)\n",
      "Requirement already satisfied: matplotlib in /usr/local/lib/python3.10/dist-packages (from deafrica-tools>=2.1.2->deafrica-waterbodies==0.0.1) (3.7.2)\n",
      "Requirement already satisfied: numexpr in /usr/local/lib/python3.10/dist-packages (from deafrica-tools>=2.1.2->deafrica-waterbodies==0.0.1) (2.8.4)\n",
      "Requirement already satisfied: odc-algo in /usr/local/lib/python3.10/dist-packages (from deafrica-tools>=2.1.2->deafrica-waterbodies==0.0.1) (0.2.3)\n",
      "Requirement already satisfied: odc-geo in /usr/local/lib/python3.10/dist-packages (from deafrica-tools>=2.1.2->deafrica-waterbodies==0.0.1) (0.4.1)\n",
      "Requirement already satisfied: odc-ui in /usr/local/lib/python3.10/dist-packages (from deafrica-tools>=2.1.2->deafrica-waterbodies==0.0.1) (0.2.1.dev3673)\n",
      "Requirement already satisfied: owslib in /usr/local/lib/python3.10/dist-packages (from deafrica-tools>=2.1.2->deafrica-waterbodies==0.0.1) (0.29.2)\n",
      "Requirement already satisfied: packaging in /usr/local/lib/python3.10/dist-packages (from deafrica-tools>=2.1.2->deafrica-waterbodies==0.0.1) (23.1)\n",
      "Requirement already satisfied: pyproj in /usr/local/lib/python3.10/dist-packages (from deafrica-tools>=2.1.2->deafrica-waterbodies==0.0.1) (3.6.0)\n",
      "Requirement already satisfied: pystac-client in /usr/local/lib/python3.10/dist-packages (from deafrica-tools>=2.1.2->deafrica-waterbodies==0.0.1) (0.7.2)\n",
      "Requirement already satisfied: pyTMD in /usr/local/lib/python3.10/dist-packages (from deafrica-tools>=2.1.2->deafrica-waterbodies==0.0.1) (1.0.6)\n",
      "Requirement already satisfied: pytz in /usr/local/lib/python3.10/dist-packages (from deafrica-tools>=2.1.2->deafrica-waterbodies==0.0.1) (2023.3)\n",
      "Requirement already satisfied: rasterio in /usr/local/lib/python3.10/dist-packages (from deafrica-tools>=2.1.2->deafrica-waterbodies==0.0.1) (1.3.8)\n",
      "Requirement already satisfied: rasterstats in /usr/local/lib/python3.10/dist-packages (from deafrica-tools>=2.1.2->deafrica-waterbodies==0.0.1) (0.19.0)\n",
      "Requirement already satisfied: requests in /usr/local/lib/python3.10/dist-packages (from deafrica-tools>=2.1.2->deafrica-waterbodies==0.0.1) (2.31.0)\n",
      "Requirement already satisfied: scikit-image in /usr/local/lib/python3.10/dist-packages (from deafrica-tools>=2.1.2->deafrica-waterbodies==0.0.1) (0.21.0)\n",
      "Requirement already satisfied: scikit-learn in /usr/local/lib/python3.10/dist-packages (from deafrica-tools>=2.1.2->deafrica-waterbodies==0.0.1) (1.3.0)\n",
      "Requirement already satisfied: scipy in /usr/local/lib/python3.10/dist-packages (from deafrica-tools>=2.1.2->deafrica-waterbodies==0.0.1) (1.11.1)\n",
      "Requirement already satisfied: seaborn in /usr/local/lib/python3.10/dist-packages (from deafrica-tools>=2.1.2->deafrica-waterbodies==0.0.1) (0.12.2)\n",
      "Requirement already satisfied: xarray in /usr/local/lib/python3.10/dist-packages (from deafrica-tools>=2.1.2->deafrica-waterbodies==0.0.1) (2023.7.0)\n",
      "Requirement already satisfied: mccabe<0.8.0,>=0.7.0 in /home/jovyan/.local/lib/python3.10/site-packages (from flake8->deafrica-waterbodies==0.0.1) (0.7.0)\n",
      "Requirement already satisfied: pycodestyle<2.11.0,>=2.10.0 in /usr/local/lib/python3.10/dist-packages (from flake8->deafrica-waterbodies==0.0.1) (2.10.0)\n",
      "Requirement already satisfied: pyflakes<3.1.0,>=3.0.0 in /home/jovyan/.local/lib/python3.10/site-packages (from flake8->deafrica-waterbodies==0.0.1) (3.0.1)\n",
      "Requirement already satisfied: mypy-extensions>=0.4.3 in /usr/local/lib/python3.10/dist-packages (from black->deafrica-waterbodies==0.0.1) (1.0.0)\n",
      "Requirement already satisfied: pathspec>=0.9.0 in /usr/local/lib/python3.10/dist-packages (from black->deafrica-waterbodies==0.0.1) (0.11.1)\n",
      "Requirement already satisfied: platformdirs>=2 in /usr/local/lib/python3.10/dist-packages (from black->deafrica-waterbodies==0.0.1) (3.9.1)\n",
      "Requirement already satisfied: tomli>=1.1.0 in /usr/local/lib/python3.10/dist-packages (from black->deafrica-waterbodies==0.0.1) (2.0.1)\n",
      "Requirement already satisfied: jmespath<2.0.0,>=0.7.1 in /usr/local/lib/python3.10/dist-packages (from boto3->deafrica-waterbodies==0.0.1) (1.0.1)\n",
      "Requirement already satisfied: s3transfer<0.7.0,>=0.6.0 in /usr/local/lib/python3.10/dist-packages (from boto3->deafrica-waterbodies==0.0.1) (0.6.1)\n",
      "Requirement already satisfied: urllib3<1.27,>=1.25.4 in /usr/local/lib/python3.10/dist-packages (from botocore->deafrica-waterbodies==0.0.1) (1.26.16)\n",
      "Requirement already satisfied: six>=1.5 in /usr/local/lib/python3.10/dist-packages (from python-dateutil->deafrica-waterbodies==0.0.1) (1.16.0)\n",
      "Requirement already satisfied: botocore-stubs in /home/jovyan/.local/lib/python3.10/site-packages (from boto3-stubs[s3,sqs]->deafrica-waterbodies==0.0.1) (1.31.67)\n",
      "Requirement already satisfied: types-s3transfer in /home/jovyan/.local/lib/python3.10/site-packages (from boto3-stubs[s3,sqs]->deafrica-waterbodies==0.0.1) (0.7.0)\n",
      "Requirement already satisfied: typing-extensions>=4.1.0 in /usr/local/lib/python3.10/dist-packages (from boto3-stubs[s3,sqs]->deafrica-waterbodies==0.0.1) (4.5.0)\n",
      "Requirement already satisfied: mypy-boto3-sqs<1.29.0,>=1.28.0 in /home/jovyan/.local/lib/python3.10/site-packages (from boto3-stubs[s3,sqs]->deafrica-waterbodies==0.0.1) (1.28.36)\n",
      "Requirement already satisfied: mypy-boto3-s3<1.29.0,>=1.28.0 in /home/jovyan/.local/lib/python3.10/site-packages (from boto3-stubs[s3,sqs]->deafrica-waterbodies==0.0.1) (1.28.55)\n",
      "Requirement already satisfied: affine in /usr/local/lib/python3.10/dist-packages (from datacube->deafrica-waterbodies==0.0.1) (2.4.0)\n",
      "Requirement already satisfied: attrs>=18.1 in /usr/local/lib/python3.10/dist-packages (from datacube->deafrica-waterbodies==0.0.1) (21.4.0)\n",
      "Requirement already satisfied: cachetools in /usr/local/lib/python3.10/dist-packages (from datacube->deafrica-waterbodies==0.0.1) (5.3.1)\n",
      "Requirement already satisfied: cloudpickle>=0.4 in /usr/local/lib/python3.10/dist-packages (from datacube->deafrica-waterbodies==0.0.1) (2.2.1)\n",
      "Requirement already satisfied: distributed in /usr/local/lib/python3.10/dist-packages (from datacube->deafrica-waterbodies==0.0.1) (2023.3.1)\n",
      "Requirement already satisfied: jsonschema in /usr/local/lib/python3.10/dist-packages (from datacube->deafrica-waterbodies==0.0.1) (4.17.3)\n",
      "Requirement already satisfied: netcdf4 in /usr/local/lib/python3.10/dist-packages (from datacube->deafrica-waterbodies==0.0.1) (1.5.8)\n",
      "Requirement already satisfied: psycopg2 in /usr/local/lib/python3.10/dist-packages (from datacube->deafrica-waterbodies==0.0.1) (2.9.6)\n",
      "Requirement already satisfied: lark in /usr/local/lib/python3.10/dist-packages (from datacube->deafrica-waterbodies==0.0.1) (1.1.7)\n",
      "Requirement already satisfied: pyyaml in /usr/local/lib/python3.10/dist-packages (from datacube->deafrica-waterbodies==0.0.1) (5.3.1)\n",
      "Requirement already satisfied: ruamel.yaml in /usr/local/lib/python3.10/dist-packages (from datacube->deafrica-waterbodies==0.0.1) (0.17.32)\n",
      "Requirement already satisfied: sqlalchemy<2.0,>=1.4 in /usr/local/lib/python3.10/dist-packages (from datacube->deafrica-waterbodies==0.0.1) (1.4.49)\n",
      "Requirement already satisfied: GeoAlchemy2 in /usr/local/lib/python3.10/dist-packages (from datacube->deafrica-waterbodies==0.0.1) (0.14.1)\n",
      "Requirement already satisfied: toolz in /usr/local/lib/python3.10/dist-packages (from datacube->deafrica-waterbodies==0.0.1) (0.12.0)\n",
      "Requirement already satisfied: deprecat in /usr/local/lib/python3.10/dist-packages (from datacube->deafrica-waterbodies==0.0.1) (2.1.1)\n",
      "Requirement already satisfied: tzdata>=2022.1 in /usr/local/lib/python3.10/dist-packages (from pandas->deafrica-waterbodies==0.0.1) (2023.3)\n",
      "Requirement already satisfied: zstandard in /usr/local/lib/python3.10/dist-packages (from odc-dscache->deafrica-waterbodies==0.0.1) (0.21.0)\n",
      "Requirement already satisfied: lmdb in /usr/local/lib/python3.10/dist-packages (from odc-dscache->deafrica-waterbodies==0.0.1) (1.4.1)\n",
      "Requirement already satisfied: iniconfig in /usr/local/lib/python3.10/dist-packages (from pytest->deafrica-waterbodies==0.0.1) (2.0.0)\n",
      "Requirement already satisfied: pluggy<2.0,>=0.12 in /usr/local/lib/python3.10/dist-packages (from pytest->deafrica-waterbodies==0.0.1) (1.2.0)\n",
      "Requirement already satisfied: exceptiongroup>=1.0.0rc8 in /usr/local/lib/python3.10/dist-packages (from pytest->deafrica-waterbodies==0.0.1) (1.1.2)\n",
      "Requirement already satisfied: certifi in /usr/local/lib/python3.10/dist-packages (from fiona->deafrica-tools>=2.1.2->deafrica-waterbodies==0.0.1) (2023.7.22)\n",
      "Requirement already satisfied: click-plugins>=1.0 in /usr/local/lib/python3.10/dist-packages (from fiona->deafrica-tools>=2.1.2->deafrica-waterbodies==0.0.1) (1.1.1)\n",
      "Requirement already satisfied: cligj>=0.5 in /usr/local/lib/python3.10/dist-packages (from fiona->deafrica-tools>=2.1.2->deafrica-waterbodies==0.0.1) (0.7.2)\n",
      "Requirement already satisfied: snuggs>=1.4.1 in /usr/local/lib/python3.10/dist-packages (from rasterio->deafrica-tools>=2.1.2->deafrica-waterbodies==0.0.1) (1.4.7)\n",
      "Requirement already satisfied: setuptools in /usr/lib/python3/dist-packages (from rasterio->deafrica-tools>=2.1.2->deafrica-waterbodies==0.0.1) (59.6.0)\n",
      "Requirement already satisfied: greenlet!=0.4.17 in /usr/local/lib/python3.10/dist-packages (from sqlalchemy<2.0,>=1.4->datacube->deafrica-waterbodies==0.0.1) (2.0.2)\n",
      "Requirement already satisfied: wrapt>=1.10.10 in /usr/local/lib/python3.10/dist-packages (from aiobotocore[boto3]->deafrica-tools>=2.1.2->deafrica-waterbodies==0.0.1) (1.15.0)\n",
      "Requirement already satisfied: aioitertools>=0.5.1 in /usr/local/lib/python3.10/dist-packages (from aiobotocore[boto3]->deafrica-tools>=2.1.2->deafrica-waterbodies==0.0.1) (0.11.0)\n",
      "Requirement already satisfied: charset-normalizer<4.0,>=2.0 in /usr/local/lib/python3.10/dist-packages (from aiohttp->deafrica-tools>=2.1.2->deafrica-waterbodies==0.0.1) (3.2.0)\n",
      "Requirement already satisfied: multidict<7.0,>=4.5 in /usr/local/lib/python3.10/dist-packages (from aiohttp->deafrica-tools>=2.1.2->deafrica-waterbodies==0.0.1) (6.0.4)\n",
      "Requirement already satisfied: async-timeout<5.0,>=4.0.0a3 in /usr/local/lib/python3.10/dist-packages (from aiohttp->deafrica-tools>=2.1.2->deafrica-waterbodies==0.0.1) (4.0.2)\n",
      "Requirement already satisfied: yarl<2.0,>=1.0 in /usr/local/lib/python3.10/dist-packages (from aiohttp->deafrica-tools>=2.1.2->deafrica-waterbodies==0.0.1) (1.9.2)\n",
      "Requirement already satisfied: frozenlist>=1.1.1 in /usr/local/lib/python3.10/dist-packages (from aiohttp->deafrica-tools>=2.1.2->deafrica-waterbodies==0.0.1) (1.4.0)\n",
      "Requirement already satisfied: aiosignal>=1.1.2 in /usr/local/lib/python3.10/dist-packages (from aiohttp->deafrica-tools>=2.1.2->deafrica-waterbodies==0.0.1) (1.3.1)\n",
      "Requirement already satisfied: types-awscrt in /home/jovyan/.local/lib/python3.10/site-packages (from botocore-stubs->boto3-stubs[s3,sqs]->deafrica-waterbodies==0.0.1) (0.19.3)\n",
      "Requirement already satisfied: jinja2 in /usr/local/lib/python3.10/dist-packages (from branca->deafrica-tools>=2.1.2->deafrica-waterbodies==0.0.1) (3.1.2)\n",
      "Requirement already satisfied: tornado in /usr/local/lib/python3.10/dist-packages (from dask-gateway->deafrica-tools>=2.1.2->deafrica-waterbodies==0.0.1) (6.3.2)\n",
      "Requirement already satisfied: locket>=1.0.0 in /usr/local/lib/python3.10/dist-packages (from distributed->datacube->deafrica-waterbodies==0.0.1) (1.0.0)\n",
      "Requirement already satisfied: msgpack>=1.0.0 in /usr/local/lib/python3.10/dist-packages (from distributed->datacube->deafrica-waterbodies==0.0.1) (1.0.5)\n",
      "Requirement already satisfied: psutil>=5.7.0 in /usr/local/lib/python3.10/dist-packages (from distributed->datacube->deafrica-waterbodies==0.0.1) (5.9.5)\n",
      "Requirement already satisfied: sortedcontainers>=2.0.5 in /usr/local/lib/python3.10/dist-packages (from distributed->datacube->deafrica-waterbodies==0.0.1) (2.4.0)\n",
      "Requirement already satisfied: tblib>=1.6.0 in /usr/local/lib/python3.10/dist-packages (from distributed->datacube->deafrica-waterbodies==0.0.1) (2.0.0)\n",
      "Requirement already satisfied: zict>=2.1.0 in /usr/local/lib/python3.10/dist-packages (from distributed->datacube->deafrica-waterbodies==0.0.1) (3.0.0)\n",
      "Requirement already satisfied: partd>=1.2.0 in /usr/local/lib/python3.10/dist-packages (from dask[complete]->deafrica-tools>=2.1.2->deafrica-waterbodies==0.0.1) (1.4.0)\n",
      "Requirement already satisfied: numba>=0.51.0 in /usr/local/lib/python3.10/dist-packages (from dask-ml->deafrica-tools>=2.1.2->deafrica-waterbodies==0.0.1) (0.57.1)\n",
      "Requirement already satisfied: dask-glm>=0.2.0 in /usr/local/lib/python3.10/dist-packages (from dask-ml->deafrica-tools>=2.1.2->deafrica-waterbodies==0.0.1) (0.2.0)\n",
      "Requirement already satisfied: multipledispatch>=0.4.9 in /usr/local/lib/python3.10/dist-packages (from dask-ml->deafrica-tools>=2.1.2->deafrica-waterbodies==0.0.1) (1.0.0)\n",
      "Requirement already satisfied: threadpoolctl>=2.0.0 in /usr/local/lib/python3.10/dist-packages (from scikit-learn->deafrica-tools>=2.1.2->deafrica-waterbodies==0.0.1) (3.2.0)\n",
      "Requirement already satisfied: bokeh<3,>=2.4.2 in /usr/local/lib/python3.10/dist-packages (from dask[complete]->deafrica-tools>=2.1.2->deafrica-waterbodies==0.0.1) (2.4.3)\n",
      "Requirement already satisfied: pyarrow>=7.0 in /usr/local/lib/python3.10/dist-packages (from dask[complete]->deafrica-tools>=2.1.2->deafrica-waterbodies==0.0.1) (12.0.1)\n",
      "Requirement already satisfied: lz4>=4.3.2 in /usr/local/lib/python3.10/dist-packages (from dask[complete]->deafrica-tools>=2.1.2->deafrica-waterbodies==0.0.1) (4.3.2)\n",
      "Requirement already satisfied: ciso8601 in /usr/local/lib/python3.10/dist-packages (from datacube->deafrica-waterbodies==0.0.1) (2.3.0)\n",
      "Requirement already satisfied: bottleneck in /usr/local/lib/python3.10/dist-packages (from datacube->deafrica-waterbodies==0.0.1) (1.3.7)\n",
      "Requirement already satisfied: geographiclib<3,>=1.52 in /usr/local/lib/python3.10/dist-packages (from geopy->deafrica-tools>=2.1.2->deafrica-waterbodies==0.0.1) (2.0)\n",
      "Requirement already satisfied: traittypes<3,>=0.2.1 in /usr/local/lib/python3.10/dist-packages (from ipyleaflet->deafrica-tools>=2.1.2->deafrica-waterbodies==0.0.1) (0.2.1)\n",
      "Requirement already satisfied: xyzservices>=2021.8.1 in /usr/local/lib/python3.10/dist-packages (from ipyleaflet->deafrica-tools>=2.1.2->deafrica-waterbodies==0.0.1) (2023.7.0)\n",
      "Requirement already satisfied: ipykernel>=4.5.1 in /usr/local/lib/python3.10/dist-packages (from ipywidgets->deafrica-tools>=2.1.2->deafrica-waterbodies==0.0.1) (6.25.0)\n",
      "Requirement already satisfied: traitlets>=4.3.1 in /usr/local/lib/python3.10/dist-packages (from ipywidgets->deafrica-tools>=2.1.2->deafrica-waterbodies==0.0.1) (5.9.0)\n",
      "Requirement already satisfied: widgetsnbextension~=4.0.7 in /usr/local/lib/python3.10/dist-packages (from ipywidgets->deafrica-tools>=2.1.2->deafrica-waterbodies==0.0.1) (4.0.8)\n",
      "Requirement already satisfied: jupyterlab-widgets~=3.0.7 in /usr/local/lib/python3.10/dist-packages (from ipywidgets->deafrica-tools>=2.1.2->deafrica-waterbodies==0.0.1) (3.0.7)\n",
      "Requirement already satisfied: backcall in /usr/local/lib/python3.10/dist-packages (from ipython->deafrica-tools>=2.1.2->deafrica-waterbodies==0.0.1) (0.2.0)\n",
      "Requirement already satisfied: decorator in /usr/local/lib/python3.10/dist-packages (from ipython->deafrica-tools>=2.1.2->deafrica-waterbodies==0.0.1) (5.1.1)\n",
      "Requirement already satisfied: jedi>=0.16 in /usr/local/lib/python3.10/dist-packages (from ipython->deafrica-tools>=2.1.2->deafrica-waterbodies==0.0.1) (0.18.0)\n",
      "Requirement already satisfied: matplotlib-inline in /usr/local/lib/python3.10/dist-packages (from ipython->deafrica-tools>=2.1.2->deafrica-waterbodies==0.0.1) (0.1.6)\n",
      "Requirement already satisfied: pickleshare in /usr/local/lib/python3.10/dist-packages (from ipython->deafrica-tools>=2.1.2->deafrica-waterbodies==0.0.1) (0.7.5)\n",
      "Requirement already satisfied: prompt-toolkit!=3.0.37,<3.1.0,>=3.0.30 in /usr/local/lib/python3.10/dist-packages (from ipython->deafrica-tools>=2.1.2->deafrica-waterbodies==0.0.1) (3.0.38)\n",
      "Requirement already satisfied: pygments>=2.4.0 in /usr/local/lib/python3.10/dist-packages (from ipython->deafrica-tools>=2.1.2->deafrica-waterbodies==0.0.1) (2.15.1)\n",
      "Requirement already satisfied: stack-data in /usr/local/lib/python3.10/dist-packages (from ipython->deafrica-tools>=2.1.2->deafrica-waterbodies==0.0.1) (0.6.2)\n",
      "Requirement already satisfied: pexpect>4.3 in /usr/local/lib/python3.10/dist-packages (from ipython->deafrica-tools>=2.1.2->deafrica-waterbodies==0.0.1) (4.8.0)\n",
      "Requirement already satisfied: pyrsistent!=0.17.0,!=0.17.1,!=0.17.2,>=0.14.0 in /usr/local/lib/python3.10/dist-packages (from jsonschema->datacube->deafrica-waterbodies==0.0.1) (0.19.3)\n",
      "Requirement already satisfied: contourpy>=1.0.1 in /usr/local/lib/python3.10/dist-packages (from matplotlib->deafrica-tools>=2.1.2->deafrica-waterbodies==0.0.1) (1.1.0)\n",
      "Requirement already satisfied: cycler>=0.10 in /usr/local/lib/python3.10/dist-packages (from matplotlib->deafrica-tools>=2.1.2->deafrica-waterbodies==0.0.1) (0.11.0)\n",
      "Requirement already satisfied: fonttools>=4.22.0 in /usr/local/lib/python3.10/dist-packages (from matplotlib->deafrica-tools>=2.1.2->deafrica-waterbodies==0.0.1) (4.41.1)\n",
      "Requirement already satisfied: kiwisolver>=1.0.1 in /usr/local/lib/python3.10/dist-packages (from matplotlib->deafrica-tools>=2.1.2->deafrica-waterbodies==0.0.1) (1.4.4)\n",
      "Requirement already satisfied: pillow>=6.2.0 in /usr/local/lib/python3.10/dist-packages (from matplotlib->deafrica-tools>=2.1.2->deafrica-waterbodies==0.0.1) (10.0.0)\n",
      "Requirement already satisfied: pyparsing<3.1,>=2.3.1 in /usr/local/lib/python3.10/dist-packages (from matplotlib->deafrica-tools>=2.1.2->deafrica-waterbodies==0.0.1) (2.4.7)\n",
      "Requirement already satisfied: cftime in /usr/local/lib/python3.10/dist-packages (from netcdf4->datacube->deafrica-waterbodies==0.0.1) (1.6.2)\n",
      "Requirement already satisfied: dask-image in /usr/local/lib/python3.10/dist-packages (from odc-algo->deafrica-tools>=2.1.2->deafrica-waterbodies==0.0.1) (2023.3.0)\n",
      "Requirement already satisfied: jupyter-ui-poll in /usr/local/lib/python3.10/dist-packages (from odc-ui->deafrica-tools>=2.1.2->deafrica-waterbodies==0.0.1) (0.2.2)\n",
      "Requirement already satisfied: lxml in /usr/local/lib/python3.10/dist-packages (from owslib->deafrica-tools>=2.1.2->deafrica-waterbodies==0.0.1) (4.9.3)\n",
      "Requirement already satisfied: idna<4,>=2.5 in /usr/local/lib/python3.10/dist-packages (from requests->deafrica-tools>=2.1.2->deafrica-waterbodies==0.0.1) (3.4)\n",
      "Requirement already satisfied: pystac[validation]>=1.7.2 in /usr/local/lib/python3.10/dist-packages (from pystac-client->deafrica-tools>=2.1.2->deafrica-waterbodies==0.0.1) (1.8.2)\n",
      "Requirement already satisfied: h5py in /usr/local/lib/python3.10/dist-packages (from pyTMD->deafrica-tools>=2.1.2->deafrica-waterbodies==0.0.1) (3.9.0)\n",
      "Requirement already satisfied: setuptools-scm in /usr/local/lib/python3.10/dist-packages (from pyTMD->deafrica-tools>=2.1.2->deafrica-waterbodies==0.0.1) (7.1.0)\n",
      "Requirement already satisfied: simplejson in /usr/local/lib/python3.10/dist-packages (from rasterstats->deafrica-tools>=2.1.2->deafrica-waterbodies==0.0.1) (3.19.1)\n",
      "Requirement already satisfied: ruamel.yaml.clib>=0.2.7 in /usr/local/lib/python3.10/dist-packages (from ruamel.yaml->datacube->deafrica-waterbodies==0.0.1) (0.2.7)\n",
      "Requirement already satisfied: networkx>=2.8 in /usr/local/lib/python3.10/dist-packages (from scikit-image->deafrica-tools>=2.1.2->deafrica-waterbodies==0.0.1) (3.1)\n",
      "Requirement already satisfied: imageio>=2.27 in /usr/local/lib/python3.10/dist-packages (from scikit-image->deafrica-tools>=2.1.2->deafrica-waterbodies==0.0.1) (2.31.1)\n",
      "Requirement already satisfied: tifffile>=2022.8.12 in /usr/local/lib/python3.10/dist-packages (from scikit-image->deafrica-tools>=2.1.2->deafrica-waterbodies==0.0.1) (2023.7.18)\n",
      "Requirement already satisfied: PyWavelets>=1.1.1 in /usr/local/lib/python3.10/dist-packages (from scikit-image->deafrica-tools>=2.1.2->deafrica-waterbodies==0.0.1) (1.4.1)\n",
      "Requirement already satisfied: lazy_loader>=0.2 in /usr/local/lib/python3.10/dist-packages (from scikit-image->deafrica-tools>=2.1.2->deafrica-waterbodies==0.0.1) (0.3)\n",
      "Requirement already satisfied: comm>=0.1.1 in /usr/local/lib/python3.10/dist-packages (from ipykernel>=4.5.1->ipywidgets->deafrica-tools>=2.1.2->deafrica-waterbodies==0.0.1) (0.1.3)\n",
      "Requirement already satisfied: debugpy>=1.6.5 in /usr/local/lib/python3.10/dist-packages (from ipykernel>=4.5.1->ipywidgets->deafrica-tools>=2.1.2->deafrica-waterbodies==0.0.1) (1.6.7)\n",
      "Requirement already satisfied: jupyter-client>=6.1.12 in /usr/local/lib/python3.10/dist-packages (from ipykernel>=4.5.1->ipywidgets->deafrica-tools>=2.1.2->deafrica-waterbodies==0.0.1) (7.4.9)\n",
      "Requirement already satisfied: jupyter-core!=5.0.*,>=4.12 in /usr/local/lib/python3.10/dist-packages (from ipykernel>=4.5.1->ipywidgets->deafrica-tools>=2.1.2->deafrica-waterbodies==0.0.1) (5.3.1)\n",
      "Requirement already satisfied: nest-asyncio in /usr/local/lib/python3.10/dist-packages (from ipykernel>=4.5.1->ipywidgets->deafrica-tools>=2.1.2->deafrica-waterbodies==0.0.1) (1.5.7)\n",
      "Requirement already satisfied: pyzmq>=20 in /usr/local/lib/python3.10/dist-packages (from ipykernel>=4.5.1->ipywidgets->deafrica-tools>=2.1.2->deafrica-waterbodies==0.0.1) (24.0.1)\n",
      "Requirement already satisfied: parso<0.9.0,>=0.8.0 in /usr/local/lib/python3.10/dist-packages (from jedi>=0.16->ipython->deafrica-tools>=2.1.2->deafrica-waterbodies==0.0.1) (0.8.2)\n",
      "Requirement already satisfied: MarkupSafe>=2.0 in /usr/local/lib/python3.10/dist-packages (from jinja2->branca->deafrica-tools>=2.1.2->deafrica-waterbodies==0.0.1) (2.1.3)\n",
      "Requirement already satisfied: llvmlite<0.41,>=0.40.0dev0 in /usr/local/lib/python3.10/dist-packages (from numba>=0.51.0->dask-ml->deafrica-tools>=2.1.2->deafrica-waterbodies==0.0.1) (0.40.1)\n",
      "Requirement already satisfied: ptyprocess>=0.5 in /usr/local/lib/python3.10/dist-packages (from pexpect>4.3->ipython->deafrica-tools>=2.1.2->deafrica-waterbodies==0.0.1) (0.7.0)\n",
      "Requirement already satisfied: wcwidth in /usr/local/lib/python3.10/dist-packages (from prompt-toolkit!=3.0.37,<3.1.0,>=3.0.30->ipython->deafrica-tools>=2.1.2->deafrica-waterbodies==0.0.1) (0.2.6)\n",
      "Requirement already satisfied: pims>=0.4.1 in /usr/local/lib/python3.10/dist-packages (from dask-image->odc-algo->deafrica-tools>=2.1.2->deafrica-waterbodies==0.0.1) (0.6.1)\n",
      "Requirement already satisfied: executing>=1.2.0 in /usr/local/lib/python3.10/dist-packages (from stack-data->ipython->deafrica-tools>=2.1.2->deafrica-waterbodies==0.0.1) (1.2.0)\n",
      "Requirement already satisfied: asttokens>=2.1.0 in /usr/local/lib/python3.10/dist-packages (from stack-data->ipython->deafrica-tools>=2.1.2->deafrica-waterbodies==0.0.1) (2.2.1)\n",
      "Requirement already satisfied: pure-eval in /usr/local/lib/python3.10/dist-packages (from stack-data->ipython->deafrica-tools>=2.1.2->deafrica-waterbodies==0.0.1) (0.2.2)\n",
      "Requirement already satisfied: entrypoints in /usr/local/lib/python3.10/dist-packages (from jupyter-client>=6.1.12->ipykernel>=4.5.1->ipywidgets->deafrica-tools>=2.1.2->deafrica-waterbodies==0.0.1) (0.4)\n",
      "Requirement already satisfied: slicerator>=0.9.8 in /usr/local/lib/python3.10/dist-packages (from pims>=0.4.1->dask-image->odc-algo->deafrica-tools>=2.1.2->deafrica-waterbodies==0.0.1) (1.1.0)\n",
      "Building wheels for collected packages: deafrica-waterbodies\n",
      "  Building wheel for deafrica-waterbodies (pyproject.toml) ... \u001b[?25ldone\n",
      "\u001b[?25h  Created wheel for deafrica-waterbodies: filename=deafrica_waterbodies-0.0.1-py3-none-any.whl size=43050 sha256=cda5bce16145ff9325190dc0482af19cd796fd50f18b7034511c381fd1eb134b\n",
      "  Stored in directory: /home/jovyan/.cache/pip/wheels/d4/26/5e/6c4acf8e058ad4f4d342a274ba5f34fc6f17ef8e9ad8b91cdb\n",
      "Successfully built deafrica-waterbodies\n",
      "Installing collected packages: deafrica-waterbodies\n",
      "  Attempting uninstall: deafrica-waterbodies\n",
      "    Found existing installation: deafrica-waterbodies 0.0.1\n",
      "    Uninstalling deafrica-waterbodies-0.0.1:\n",
      "      Successfully uninstalled deafrica-waterbodies-0.0.1\n",
      "\u001b[33m  WARNING: The script deafrica-waterbodies is installed in '/home/jovyan/.local/bin' which is not on PATH.\n",
      "  Consider adding this directory to PATH or, if you prefer to suppress this warning, use --no-warn-script-location.\u001b[0m\u001b[33m\n",
      "\u001b[0mSuccessfully installed deafrica-waterbodies-0.0.1\n",
      "\n",
      "\u001b[1m[\u001b[0m\u001b[34;49mnotice\u001b[0m\u001b[1;39;49m]\u001b[0m\u001b[39;49m A new release of pip is available: \u001b[0m\u001b[31;49m23.2.1\u001b[0m\u001b[39;49m -> \u001b[0m\u001b[32;49m23.3\u001b[0m\n",
      "\u001b[1m[\u001b[0m\u001b[34;49mnotice\u001b[0m\u001b[1;39;49m]\u001b[0m\u001b[39;49m To update, run: \u001b[0m\u001b[32;49mpython -m pip install --upgrade pip\u001b[0m\n"
     ]
    }
   ],
   "source": [
    "# Uncomment the line below to install deafrica-waterbodies\n",
    "!python -m pip install ../."
   ]
  },
  {
   "cell_type": "markdown",
   "id": "1ebdfdc4-527e-41bb-8f5c-d2259ae896bf",
   "metadata": {
    "tags": []
   },
   "source": [
    "## Load the necessary python packages"
   ]
  },
  {
   "cell_type": "code",
   "execution_count": 2,
   "id": "2e42a904-9d7f-4780-9d9e-0328fcf9cb76",
   "metadata": {},
   "outputs": [],
   "source": [
    "import os\n",
    "import math\n",
    "import subprocess\n",
    "import geopandas as gpd"
   ]
  },
  {
   "cell_type": "markdown",
   "id": "d4d3bdb8-8457-4897-93d6-81774aa3dbea",
   "metadata": {},
   "source": [
    "## Analysis Parameters\n",
    "\n",
    "For each of the specified parameters below, see the [Turn water observations into waterbody polygons notebook](TurnWaterObservationsIntoWaterbodyPolygons.ipynb) for more details.\n",
    "\n",
    "If you wish to filter out major rivers and CBD areas from your waterbodies, please add the flags, \n",
    "`--remove-major-rivers` and `--remove-cbd` respectively and set the paths to the vector datasets you would like to use for filtering using `--major-rivers-mask-fp='<path to dataset>` and `--urban-mask-fp=<path to dataset>`."
   ]
  },
  {
   "cell_type": "code",
   "execution_count": 3,
   "id": "2dd6aea9-7ca8-4562-a0e1-248afb893c4b",
   "metadata": {},
   "outputs": [],
   "source": [
    "# Delete the default AWS configurations for the Analysis Sandbox.\n",
    "# that are set in the environmnet variables to be able to use the \n",
    "# credentials in the ~/.aws/credentials file.\n",
    "aws_default_config = {\n",
    "    'AWS_NO_SIGN_REQUEST': 'YES', \n",
    "    'AWS_SECRET_ACCESS_KEY': 'fake',\n",
    "    'AWS_ACCESS_KEY_ID': 'fake',}\n",
    "\n",
    "for key in aws_default_config.keys():\n",
    "    if key in os.environ:\n",
    "        del os.environ[key]"
   ]
  },
  {
   "cell_type": "code",
   "execution_count": 4,
   "id": "f4eab541-7f03-4170-ae16-ee23c0f16392",
   "metadata": {},
   "outputs": [],
   "source": [
    "# File path to the vector file defining our area of interest. \n",
    "run_type = \"custom\"\n",
    "vector_file_fp = \"/home/jovyan/Data/Waterbodies/InputDatasets/SenegalBasin.geojson\"\n",
    "primary_threshold = 0.1\n",
    "secondary_threshold = 0.05\n",
    "min_polygon_size = 4500\n",
    "max_polygon_size = math.inf\n",
    "land_sea_mask_fp = \"/home/jovyan/Data/Waterbodies/InputDatasets/goas_v01.gpkg\"\n",
    "handle_large_polygons=\"erode-dilate-v2\"\n",
    "pp_test_threshold=0.005\n",
    "product_version = \"0.0.1\"\n",
    "output_bucket_name = \"deafrica-waterbodies-dev\"\n",
    "output_filename=\"senegalbasinwaterbodies\"\n",
    "output_file_type= \"Shapefile\"\n",
    "#output_file_type= \"GeoJSON\" "
   ]
  },
  {
   "cell_type": "code",
   "execution_count": 5,
   "id": "48627ff9-ea87-4fa2-a994-f1b6e9ddcb4c",
   "metadata": {},
   "outputs": [
    {
     "data": {
      "text/plain": [
       "['/home/jovyan/.local/bin/deafrica-waterbodies',\n",
       " 'generate-waterbodies',\n",
       " '--run-type=custom',\n",
       " '--vector-file-fp=/home/jovyan/Data/Waterbodies/InputDatasets/SenegalBasin.geojson',\n",
       " '--primary-threshold=0.1',\n",
       " '--secondary-threshold=0.05',\n",
       " '--min-polygon-size=4500',\n",
       " '--max-polygon-size=inf',\n",
       " '--remove-ocean-polygons',\n",
       " '--land-sea-mask-fp=/home/jovyan/Data/Waterbodies/InputDatasets/goas_v01.gpkg',\n",
       " '--handle-large-polygons=erode-dilate-v2',\n",
       " '--pp-test-threshold=0.005',\n",
       " '-v',\n",
       " '--product-version=0.0.1',\n",
       " '--s3',\n",
       " '--output-bucket-name=deafrica-waterbodies-dev',\n",
       " '--output-file-name=senegalbasinwaterbodies',\n",
       " '--output-file-type=Shapefile']"
      ]
     },
     "execution_count": 5,
     "metadata": {},
     "output_type": "execute_result"
    }
   ],
   "source": [
    "#The script deafrica-waterbodies is installed in '/home/jovyan/.local/bin' which is not on PATH.\n",
    "executable = \"/home/jovyan/.local/bin/deafrica-waterbodies\"\n",
    "cmd = f\"{executable} generate-waterbodies --run-type={run_type} --vector-file-fp={vector_file_fp} \" \\\n",
    "f\"--primary-threshold={primary_threshold} --secondary-threshold={secondary_threshold} \" \\\n",
    "f\"--min-polygon-size={min_polygon_size} --max-polygon-size={max_polygon_size} \" \\\n",
    "f\"--remove-ocean-polygons --land-sea-mask-fp={land_sea_mask_fp} --handle-large-polygons={handle_large_polygons} \" \\\n",
    "f\"--pp-test-threshold={pp_test_threshold} -v --product-version={product_version} --s3 --output-bucket-name={output_bucket_name} --output-file-name={output_filename} \" \\\n",
    "f\"--output-file-type={output_file_type}\" \n",
    "\n",
    "cmd_list = cmd.split(\" \")\n",
    "cmd_list"
   ]
  },
  {
   "cell_type": "code",
   "execution_count": 6,
   "id": "035b2ca8-9b7c-4227-90fa-1916acd27902",
   "metadata": {},
   "outputs": [
    {
     "name": "stderr",
     "output_type": "stream",
     "text": [
      "Usage: deafrica-waterbodies [OPTIONS] COMMAND [ARGS]...\n",
      "Try 'deafrica-waterbodies --help' for help.\n",
      "\n",
      "Error: No such command 'generate-waterbodies'.\n"
     ]
    },
    {
     "data": {
      "text/plain": [
       "CompletedProcess(args=['/home/jovyan/.local/bin/deafrica-waterbodies', 'generate-waterbodies', '--run-type=custom', '--vector-file-fp=/home/jovyan/Data/Waterbodies/InputDatasets/SenegalBasin.geojson', '--primary-threshold=0.1', '--secondary-threshold=0.05', '--min-polygon-size=4500', '--max-polygon-size=inf', '--remove-ocean-polygons', '--land-sea-mask-fp=/home/jovyan/Data/Waterbodies/InputDatasets/goas_v01.gpkg', '--handle-large-polygons=erode-dilate-v2', '--pp-test-threshold=0.005', '-v', '--product-version=0.0.1', '--s3', '--output-bucket-name=deafrica-waterbodies-dev', '--output-file-name=senegalbasinwaterbodies', '--output-file-type=Shapefile'], returncode=2)"
      ]
     },
     "execution_count": 6,
     "metadata": {},
     "output_type": "execute_result"
    }
   ],
   "source": [
    "subprocess.run(cmd_list)"
   ]
  },
  {
   "cell_type": "code",
   "execution_count": null,
   "id": "e6448578-a001-48d6-b351-d257fbff1f5e",
   "metadata": {},
   "outputs": [],
   "source": [
    "# Read the output file.\n",
    "output_fp = \"s3://deafrica-waterbodies-dev/0-0-1/shapefile/senegalbasinwaterbodies.shp\"\n",
    "waterbodies =  gpd.read_file(output_fp)\n",
    "waterbodies.head()"
   ]
  },
  {
   "cell_type": "code",
   "execution_count": null,
   "id": "91d62044-7924-4dec-af36-0e8a27819106",
   "metadata": {},
   "outputs": [],
   "source": [
    "# Plot the waterbodies. \n",
    "waterbodies.plot(edgecolor='k')"
   ]
  }
 ],
 "metadata": {
  "kernelspec": {
   "display_name": "Python 3 (ipykernel)",
   "language": "python",
   "name": "python3"
  },
  "language_info": {
   "codemirror_mode": {
    "name": "ipython",
    "version": 3
   },
   "file_extension": ".py",
   "mimetype": "text/x-python",
   "name": "python",
   "nbconvert_exporter": "python",
   "pygments_lexer": "ipython3",
   "version": "3.10.12"
  }
 },
 "nbformat": 4,
 "nbformat_minor": 5
}

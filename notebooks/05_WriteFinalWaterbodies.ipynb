{
 "cells": [
  {
   "cell_type": "code",
   "execution_count": 1,
   "id": "41ab3fc2-410a-4d68-b108-de4105a606b8",
   "metadata": {},
   "outputs": [],
   "source": [
    "import logging\n",
    "import os\n",
    "\n",
    "import click\n",
    "import geopandas as gpd\n",
    "\n",
    "from deafrica_waterbodies.attributes import (\n",
    "    add_area_and_perimeter_attributes,\n",
    "    add_timeseries_attribute,\n",
    "    assign_unique_ids,\n",
    ")\n",
    "from deafrica_waterbodies.cli.logs import logging_setup\n",
    "from deafrica_waterbodies.io import write_waterbodies_to_file"
   ]
  },
  {
   "cell_type": "code",
   "execution_count": null,
   "id": "90cee63b-9a27-4f59-b344-7df73c813ff7",
   "metadata": {},
   "outputs": [],
   "source": []
  },
  {
   "cell_type": "code",
   "execution_count": 2,
   "id": "bba96a42-06e6-44b4-ab42-83282efc4bd7",
   "metadata": {},
   "outputs": [],
   "source": [
    "# some_file.py\n",
    "import sys\n",
    "# caution: path[0] is reserved for script path (or '' in REPL)\n",
    "sys.path.insert(1, '../deafrica_waterbodies/cli/logs.py')"
   ]
  },
  {
   "cell_type": "code",
   "execution_count": 3,
   "id": "f84dce1e-c5a4-4c38-bad6-a4c97efaf64b",
   "metadata": {},
   "outputs": [],
   "source": [
    "import os\n",
    "\n",
    "# These are the default AWS configurations for the Analysis Sandbox.\n",
    "# that are set in the environmnet variables.\n",
    "aws_default_config = {\n",
    "    # \"AWS_NO_SIGN_REQUEST\": \"YES\",\n",
    "    \"AWS_SECRET_ACCESS_KEY\": \"fake\",\n",
    "    \"AWS_ACCESS_KEY_ID\": \"fake\",\n",
    "}\n",
    "\n",
    "# To access public bucket, need to remove the AWS credentials in\n",
    "# the environment variables or the following error will occur.\n",
    "# PermissionError: The AWS Access Key Id you provided does not exist in our records.\n",
    "\n",
    "for key in aws_default_config.keys():\n",
    "    if key in os.environ:\n",
    "        del os.environ[key]"
   ]
  },
  {
   "cell_type": "code",
   "execution_count": 4,
   "id": "4da721f5-a525-48b5-ba43-35ad774c0e15",
   "metadata": {},
   "outputs": [],
   "source": [
    "verbose = 1\n",
    "output_directory = \"s3://deafrica-waterbodies-dev/test_out_dir/0-0-1/shapefile2\"\n",
    "product_version = \"0.0.1\"\n",
    "timeseries_bucket = \"deafrica-waterbodies-dev\""
   ]
  },
  {
   "cell_type": "code",
   "execution_count": 5,
   "id": "2f860555-2a8d-461d-87bc-fe82f5dfd431",
   "metadata": {},
   "outputs": [],
   "source": [
    "# Set up logger.\n",
    "logging_setup(verbose=verbose)\n",
    "_log = logging.getLogger(__name__)"
   ]
  },
  {
   "cell_type": "code",
   "execution_count": 6,
   "id": "09a1670d-8ee1-4bf3-a7dd-36ef052f8ad4",
   "metadata": {},
   "outputs": [],
   "source": [
    "# Support pathlib paths.\n",
    "output_directory = str(output_directory)"
   ]
  },
  {
   "cell_type": "code",
   "execution_count": 7,
   "id": "4a163bc8-097a-4719-9aeb-4c5cd0f5f5e1",
   "metadata": {},
   "outputs": [
    {
     "name": "stdout",
     "output_type": "stream",
     "text": [
      "[2023-10-19 23:19:06,808] {1292984903.py:1} INFO - Loading filtered waterbody polygons...\n",
      "[2023-10-19 23:19:23,202] {1292984903.py:4} INFO - Waterbody polygons count 6543.\n"
     ]
    }
   ],
   "source": [
    "_log.info(\"Loading filtered waterbody polygons...\")\n",
    "filtered_polygons_fp = os.path.join(output_directory, \"filtered_polygons.parquet\")\n",
    "filtered_polygons = gpd.read_parquet(filtered_polygons_fp)\n",
    "_log.info(f\"Waterbody polygons count {len(filtered_polygons)}.\")"
   ]
  },
  {
   "cell_type": "code",
   "execution_count": null,
   "id": "3ee1f7d1-fc1a-48d1-9458-921ff812359d",
   "metadata": {},
   "outputs": [],
   "source": [
    "waterbodies_gdf = assign_unique_ids(polygons=filtered_polygons)\n",
    "waterbodies_gdf = add_area_and_perimeter_attributes(polygons=waterbodies_gdf)\n",
    "waterbodies_gdf = add_timeseries_attribute(\n",
    "    polygons=waterbodies_gdf,\n",
    "    product_version=product_version,\n",
    "    timeseries_bucket=timeseries_bucket,\n",
    ")"
   ]
  },
  {
   "cell_type": "code",
   "execution_count": null,
   "id": "1aede9ef-3a24-4b89-bcab-f247f6eb66a2",
   "metadata": {},
   "outputs": [],
   "source": [
    "# Reproject to EPSG:4326\n",
    "waterbodies_gdf_4326 = waterbodies_gdf.to_crs(\"EPSG:4326\")"
   ]
  },
  {
   "cell_type": "code",
   "execution_count": null,
   "id": "c2363caf-d318-4dcf-a50c-9e995503ad43",
   "metadata": {},
   "outputs": [],
   "source": [
    "# Write to disk.\n",
    "write_waterbodies_to_file(\n",
    "    waterbodies_gdf=waterbodies_gdf_4326,\n",
    "    product_version=product_version,\n",
    "    output_directory=output_directory,\n",
    ")"
   ]
  }
 ],
 "metadata": {
  "kernelspec": {
   "display_name": "Python 3 (ipykernel)",
   "language": "python",
   "name": "python3"
  },
  "language_info": {
   "codemirror_mode": {
    "name": "ipython",
    "version": 3
   },
   "file_extension": ".py",
   "mimetype": "text/x-python",
   "name": "python",
   "nbconvert_exporter": "python",
   "pygments_lexer": "ipython3",
   "version": "3.10.12"
  }
 },
 "nbformat": 4,
 "nbformat_minor": 5
}
